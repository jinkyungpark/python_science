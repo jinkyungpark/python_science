{
 "cells": [
  {
   "cell_type": "code",
   "execution_count": 1,
   "metadata": {},
   "outputs": [],
   "source": [
    "import pandas as pd"
   ]
  },
  {
   "cell_type": "code",
   "execution_count": 11,
   "metadata": {},
   "outputs": [
    {
     "data": {
      "text/html": [
       "<div>\n",
       "<style scoped>\n",
       "    .dataframe tbody tr th:only-of-type {\n",
       "        vertical-align: middle;\n",
       "    }\n",
       "\n",
       "    .dataframe tbody tr th {\n",
       "        vertical-align: top;\n",
       "    }\n",
       "\n",
       "    .dataframe thead th {\n",
       "        text-align: right;\n",
       "    }\n",
       "</style>\n",
       "<table border=\"1\" class=\"dataframe\">\n",
       "  <thead>\n",
       "    <tr style=\"text-align: right;\">\n",
       "      <th></th>\n",
       "      <th>name</th>\n",
       "      <th>major</th>\n",
       "      <th>gender</th>\n",
       "    </tr>\n",
       "  </thead>\n",
       "  <tbody>\n",
       "    <tr>\n",
       "      <th>0</th>\n",
       "      <td>John</td>\n",
       "      <td>Computer Science</td>\n",
       "      <td>male</td>\n",
       "    </tr>\n",
       "    <tr>\n",
       "      <th>1</th>\n",
       "      <td>Nate</td>\n",
       "      <td>Computer Science</td>\n",
       "      <td>male</td>\n",
       "    </tr>\n",
       "    <tr>\n",
       "      <th>2</th>\n",
       "      <td>Abraham</td>\n",
       "      <td>Physics</td>\n",
       "      <td>male</td>\n",
       "    </tr>\n",
       "    <tr>\n",
       "      <th>3</th>\n",
       "      <td>Brian</td>\n",
       "      <td>Psychology</td>\n",
       "      <td>male</td>\n",
       "    </tr>\n",
       "    <tr>\n",
       "      <th>4</th>\n",
       "      <td>Janny</td>\n",
       "      <td>Economics</td>\n",
       "      <td>female</td>\n",
       "    </tr>\n",
       "    <tr>\n",
       "      <th>5</th>\n",
       "      <td>Yuna</td>\n",
       "      <td>Economics</td>\n",
       "      <td>female</td>\n",
       "    </tr>\n",
       "    <tr>\n",
       "      <th>6</th>\n",
       "      <td>Jeniffer</td>\n",
       "      <td>Computer Science</td>\n",
       "      <td>female</td>\n",
       "    </tr>\n",
       "    <tr>\n",
       "      <th>7</th>\n",
       "      <td>Edward</td>\n",
       "      <td>Computer Science</td>\n",
       "      <td>male</td>\n",
       "    </tr>\n",
       "    <tr>\n",
       "      <th>8</th>\n",
       "      <td>Zara</td>\n",
       "      <td>Psychology</td>\n",
       "      <td>female</td>\n",
       "    </tr>\n",
       "    <tr>\n",
       "      <th>9</th>\n",
       "      <td>Wendy</td>\n",
       "      <td>Economics</td>\n",
       "      <td>female</td>\n",
       "    </tr>\n",
       "    <tr>\n",
       "      <th>10</th>\n",
       "      <td>Sera</td>\n",
       "      <td>Psychology</td>\n",
       "      <td>female</td>\n",
       "    </tr>\n",
       "  </tbody>\n",
       "</table>\n",
       "</div>"
      ],
      "text/plain": [
       "        name             major  gender\n",
       "0       John  Computer Science    male\n",
       "1       Nate  Computer Science    male\n",
       "2    Abraham           Physics    male\n",
       "3      Brian        Psychology    male\n",
       "4      Janny         Economics  female\n",
       "5       Yuna         Economics  female\n",
       "6   Jeniffer  Computer Science  female\n",
       "7     Edward  Computer Science    male\n",
       "8       Zara        Psychology  female\n",
       "9      Wendy         Economics  female\n",
       "10      Sera        Psychology  female"
      ]
     },
     "execution_count": 11,
     "metadata": {},
     "output_type": "execute_result"
    }
   ],
   "source": [
    "student_list = {\n",
    "    \"name\": [\n",
    "        \"John\", \"Nate\", \"Abraham\", \"Brian\", \"Janny\", \"Yuna\", \"Jeniffer\",\n",
    "        \"Edward\", \"Zara\", \"Wendy\", \"Sera\"\n",
    "    ],\n",
    "    \"major\": [\n",
    "        \"Computer Science\", \"Computer Science\", \"Physics\", \"Psychology\",\n",
    "        \"Economics\", \"Economics\", \"Computer Science\", \"Computer Science\",\n",
    "        \"Psychology\", \"Economics\", \"Psychology\"\n",
    "    ],\n",
    "    \"gender\": [\n",
    "        \"male\", \"male\", \"male\", \"male\", \"female\", \"female\", \"female\", \"male\",\n",
    "        \"female\", \"female\", \"female\"\n",
    "    ]\n",
    "}\n",
    "df = pd.DataFrame(student_list)\n",
    "df"
   ]
  },
  {
   "cell_type": "code",
   "execution_count": 12,
   "metadata": {},
   "outputs": [
    {
     "data": {
      "text/plain": [
       "{'Computer Science': Int64Index([0, 1, 6, 7], dtype='int64'),\n",
       " 'Economics': Int64Index([4, 5, 9], dtype='int64'),\n",
       " 'Physics': Int64Index([2], dtype='int64'),\n",
       " 'Psychology': Int64Index([3, 8, 10], dtype='int64')}"
      ]
     },
     "execution_count": 12,
     "metadata": {},
     "output_type": "execute_result"
    }
   ],
   "source": [
    "# 학과별로 몇 명이 있는지 알고 싶다면?\n",
    "\n",
    "groupby_major = df.groupby('major')\n",
    "groupby_major.groups"
   ]
  },
  {
   "cell_type": "code",
   "execution_count": 14,
   "metadata": {},
   "outputs": [
    {
     "name": "stdout",
     "output_type": "stream",
     "text": [
      "Computer Science : 4\n",
      "       name             major  gender\n",
      "0      John  Computer Science    male\n",
      "1      Nate  Computer Science    male\n",
      "6  Jeniffer  Computer Science  female\n",
      "7    Edward  Computer Science    male\n",
      "Economics : 3\n",
      "    name      major  gender\n",
      "4  Janny  Economics  female\n",
      "5   Yuna  Economics  female\n",
      "9  Wendy  Economics  female\n",
      "Physics : 1\n",
      "      name    major gender\n",
      "2  Abraham  Physics   male\n",
      "Psychology : 3\n",
      "     name       major  gender\n",
      "3   Brian  Psychology    male\n",
      "8    Zara  Psychology  female\n",
      "10   Sera  Psychology  female\n"
     ]
    }
   ],
   "source": [
    "for name, group in groupby_major:\n",
    "    print(name + \" : \" + str(len(group)))\n",
    "    print(group)"
   ]
  },
  {
   "cell_type": "code",
   "execution_count": 15,
   "metadata": {},
   "outputs": [
    {
     "data": {
      "text/html": [
       "<div>\n",
       "<style scoped>\n",
       "    .dataframe tbody tr th:only-of-type {\n",
       "        vertical-align: middle;\n",
       "    }\n",
       "\n",
       "    .dataframe tbody tr th {\n",
       "        vertical-align: top;\n",
       "    }\n",
       "\n",
       "    .dataframe thead th {\n",
       "        text-align: right;\n",
       "    }\n",
       "</style>\n",
       "<table border=\"1\" class=\"dataframe\">\n",
       "  <thead>\n",
       "    <tr style=\"text-align: right;\">\n",
       "      <th></th>\n",
       "      <th>count</th>\n",
       "    </tr>\n",
       "    <tr>\n",
       "      <th>major</th>\n",
       "      <th></th>\n",
       "    </tr>\n",
       "  </thead>\n",
       "  <tbody>\n",
       "    <tr>\n",
       "      <th>Computer Science</th>\n",
       "      <td>4</td>\n",
       "    </tr>\n",
       "    <tr>\n",
       "      <th>Economics</th>\n",
       "      <td>3</td>\n",
       "    </tr>\n",
       "    <tr>\n",
       "      <th>Physics</th>\n",
       "      <td>1</td>\n",
       "    </tr>\n",
       "    <tr>\n",
       "      <th>Psychology</th>\n",
       "      <td>3</td>\n",
       "    </tr>\n",
       "  </tbody>\n",
       "</table>\n",
       "</div>"
      ],
      "text/plain": [
       "                  count\n",
       "major                  \n",
       "Computer Science      4\n",
       "Economics             3\n",
       "Physics               1\n",
       "Psychology            3"
      ]
     },
     "execution_count": 15,
     "metadata": {},
     "output_type": "execute_result"
    }
   ],
   "source": [
    "# 학과별로 데이터프레임 생성하고 싶다면?\n",
    "\n",
    "df_major_cnt = pd.DataFrame({'count': groupby_major.size()})\n",
    "df_major_cnt"
   ]
  },
  {
   "cell_type": "code",
   "execution_count": 16,
   "metadata": {},
   "outputs": [
    {
     "data": {
      "text/html": [
       "<div>\n",
       "<style scoped>\n",
       "    .dataframe tbody tr th:only-of-type {\n",
       "        vertical-align: middle;\n",
       "    }\n",
       "\n",
       "    .dataframe tbody tr th {\n",
       "        vertical-align: top;\n",
       "    }\n",
       "\n",
       "    .dataframe thead th {\n",
       "        text-align: right;\n",
       "    }\n",
       "</style>\n",
       "<table border=\"1\" class=\"dataframe\">\n",
       "  <thead>\n",
       "    <tr style=\"text-align: right;\">\n",
       "      <th></th>\n",
       "      <th>major</th>\n",
       "      <th>count</th>\n",
       "    </tr>\n",
       "  </thead>\n",
       "  <tbody>\n",
       "    <tr>\n",
       "      <th>0</th>\n",
       "      <td>Computer Science</td>\n",
       "      <td>4</td>\n",
       "    </tr>\n",
       "    <tr>\n",
       "      <th>1</th>\n",
       "      <td>Economics</td>\n",
       "      <td>3</td>\n",
       "    </tr>\n",
       "    <tr>\n",
       "      <th>2</th>\n",
       "      <td>Physics</td>\n",
       "      <td>1</td>\n",
       "    </tr>\n",
       "    <tr>\n",
       "      <th>3</th>\n",
       "      <td>Psychology</td>\n",
       "      <td>3</td>\n",
       "    </tr>\n",
       "  </tbody>\n",
       "</table>\n",
       "</div>"
      ],
      "text/plain": [
       "              major  count\n",
       "0  Computer Science      4\n",
       "1         Economics      3\n",
       "2           Physics      1\n",
       "3        Psychology      3"
      ]
     },
     "execution_count": 16,
     "metadata": {},
     "output_type": "execute_result"
    }
   ],
   "source": [
    "# major 을 column 으로 설정\n",
    "\n",
    "df_major_cnt.reset_index()"
   ]
  },
  {
   "cell_type": "code",
   "execution_count": 17,
   "metadata": {},
   "outputs": [
    {
     "data": {
      "text/plain": [
       "{'female': Int64Index([4, 5, 6, 8, 9, 10], dtype='int64'),\n",
       " 'male': Int64Index([0, 1, 2, 3, 7], dtype='int64')}"
      ]
     },
     "execution_count": 17,
     "metadata": {},
     "output_type": "execute_result"
    }
   ],
   "source": [
    "# 성별로 그룹화 하기\n",
    "\n",
    "groupby_gender = df.groupby('gender')\n",
    "groupby_gender.groups"
   ]
  },
  {
   "cell_type": "code",
   "execution_count": 18,
   "metadata": {},
   "outputs": [
    {
     "name": "stdout",
     "output_type": "stream",
     "text": [
      "female : 6\n",
      "        name             major  gender\n",
      "4      Janny         Economics  female\n",
      "5       Yuna         Economics  female\n",
      "6   Jeniffer  Computer Science  female\n",
      "8       Zara        Psychology  female\n",
      "9      Wendy         Economics  female\n",
      "10      Sera        Psychology  female\n",
      "male : 5\n",
      "      name             major gender\n",
      "0     John  Computer Science   male\n",
      "1     Nate  Computer Science   male\n",
      "2  Abraham           Physics   male\n",
      "3    Brian        Psychology   male\n",
      "7   Edward  Computer Science   male\n"
     ]
    }
   ],
   "source": [
    "for name, group in groupby_gender:\n",
    "    print(name+\" : \"+str(len(group)))\n",
    "    print(group)"
   ]
  },
  {
   "cell_type": "code",
   "execution_count": null,
   "metadata": {},
   "outputs": [],
   "source": []
  }
 ],
 "metadata": {
  "hide_input": false,
  "kernelspec": {
   "display_name": "Python 3",
   "language": "python",
   "name": "python3"
  },
  "language_info": {
   "codemirror_mode": {
    "name": "ipython",
    "version": 3
   },
   "file_extension": ".py",
   "mimetype": "text/x-python",
   "name": "python",
   "nbconvert_exporter": "python",
   "pygments_lexer": "ipython3",
   "version": "3.7.6"
  },
  "toc": {
   "base_numbering": 1,
   "nav_menu": {},
   "number_sections": true,
   "sideBar": true,
   "skip_h1_title": false,
   "title_cell": "Table of Contents",
   "title_sidebar": "Contents",
   "toc_cell": false,
   "toc_position": {},
   "toc_section_display": true,
   "toc_window_display": false
  }
 },
 "nbformat": 4,
 "nbformat_minor": 4
}
