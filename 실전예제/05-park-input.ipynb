{
 "cells": [
  {
   "cell_type": "markdown",
   "metadata": {},
   "source": [
    "[![Open In Colab](https://colab.research.google.com/assets/colab-badge.svg)](https://bit.ly/open-data-05-park-input)\n",
    "\n",
    "\n",
    "# 전국 도시 공원 표준 데이터\n",
    "https://www.data.go.kr/dataset/15012890/standard.do\n",
    "* 전국 도시 공원 표준데이터에는 데이터를 전처리 해보기에 좋은 데이터가 많습니다.\n",
    "* 시간, 결측치, 이상치, 수치형, 범주형 데이터를 고르게 볼 수 있으며 다양한 텍스트 데이터 처리를 해볼 수 있습니다.\n",
    "* 또 정규표현식을 활용해서 텍스트 데이터 전처리와 데이터 마스킹 기법에 대해 다룹니다.\n",
    "* 그리고 이렇게 전처리한 내용을 바탕으로 전국 도시공원에 대한 분포를 시각화해 봅니다.\n",
    "* 어떤 공원이 어느 지역에 어떻게 분포되어 있는지를 위경도로 표현해 봅니다.\n",
    "\n",
    "## 이번 챕터에서 설치가 필요한 도구\n",
    "\n",
    "* 별도의 설치가 필요합니다.(folium 을 설치했던 것 처럼 따로 설치해야지만 사용할 수 있습니다.)\n",
    "\n",
    "* 윈도우\n",
    "    * <font color=\"red\">주피터 노트북 상에서 설치가 되지 않으니</font> anaconda prompt 를 열어서 설치해 주세요.\n",
    "    * <font color=\"red\">관리자 권한</font>으로 아나콘다를 설치하셨다면 다음의 방법으로 anaconda prompt 를 열어 주세요.\n",
    "    <img src=\"https://i.imgur.com/GhoLwsd.png\">\n",
    "* 맥\n",
    "    * terminal 프로그램을 열어 설치해 주세요. \n",
    "\n",
    "\n",
    "### Pandas Profiling\n",
    "* [pandas-profiling/pandas-profiling: Create HTML profiling reports from pandas DataFrame objects](https://github.com/pandas-profiling/pandas-profiling)\n",
    "\n",
    "* 2020년 4월 기준 판다스 1.0 이상 버전을 지원하지 않습니다.\n",
    "* 아나콘다로 주피터를 설치했다면 : `conda install -c conda-forge pandas-profiling`\n",
    "* pip로 주피터를 설치했다면 : `pip install pandas-profiling`\n",
    "\n",
    "### 워드클라우드\n",
    "[amueller/word_cloud: A little word cloud generator in Python](https://github.com/amueller/word_cloud)\n",
    "\n",
    "* 다음 명령어로 설치가 가능합니다. conda prompt 혹은 터미널을 열어 설치해 주세요.\n",
    "\n",
    "* conda : `conda install -c conda-forge wordcloud`\n",
    "* pip : `pip install wordcloud`\n"
   ]
  },
  {
   "cell_type": "markdown",
   "metadata": {},
   "source": [
    "## 분석에 사용할 도구를 불러옵니다."
   ]
  },
  {
   "cell_type": "code",
   "execution_count": 1,
   "metadata": {},
   "outputs": [],
   "source": [
    "# 필요한 라이브러리를 로드합니다.\n",
    "# pandas, numpy, seaborn, matplotlib\n",
    "\n",
    "import pandas as pd\n",
    "import numpy as np\n",
    "import seaborn as sns\n",
    "import matplotlib.pyplot as plt\n"
   ]
  },
  {
   "cell_type": "markdown",
   "metadata": {},
   "source": [
    "## Seaborn 설정으로 시각화의 스타일, 폰트 설정하기\n",
    "* [matplotlib.pyplot.rc — Matplotlib 3.1.3 documentation](https://matplotlib.org/3.1.3/api/_as_gen/matplotlib.pyplot.rc.html)"
   ]
  },
  {
   "cell_type": "code",
   "execution_count": 2,
   "metadata": {},
   "outputs": [],
   "source": [
    "# seaborn 의 set 기능을 통해 폰트, 마이너스 폰트 설정, 스타일 설정을 합니다.\n",
    "# Wind : \"Malgun Gothic\", MAC:\"AppleGothic\"\n",
    "\n",
    "# matplotlib을 이용해서 설정했던 것\n",
    "# plt.rc(\"font\", family=\"D2Coding\")\n",
    "# plt.rc(\"axes\", unicode_minus=False)\n",
    "\n",
    "rc = {\"axes.unicode_minus\": False}\n",
    "sns.set(font='D2Coding', style=\"darkgrid\", rc=rc)"
   ]
  },
  {
   "cell_type": "code",
   "execution_count": 3,
   "metadata": {
    "scrolled": false
   },
   "outputs": [
    {
     "data": {
      "text/plain": [
       "<matplotlib.axes._subplots.AxesSubplot at 0x1914d6c3b88>"
      ]
     },
     "execution_count": 3,
     "metadata": {},
     "output_type": "execute_result"
    },
    {
     "data": {
      "image/png": "[encoded data removed]",
      "text/plain": [
       "<Figure size 432x288 with 1 Axes>"
      ]
     },
     "metadata": {},
     "output_type": "display_data"
    }
   ],
   "source": [
    "# 한글폰트 설정 확인을 합니다.\n",
    "\n",
    "pd.Series([1, 3, 5, -7, 9]).plot.bar(title=\"한글제목\")"
   ]
  },
  {
   "cell_type": "code",
   "execution_count": 4,
   "metadata": {},
   "outputs": [],
   "source": [
    "# 그래프가 선명하게 표시되도록 합니다.\n",
    "\n"
   ]
  },
  {
   "cell_type": "markdown",
   "metadata": {},
   "source": [
    "## 데이터 로드"
   ]
  },
  {
   "cell_type": "code",
   "execution_count": 5,
   "metadata": {},
   "outputs": [
    {
     "data": {
      "text/plain": [
       "(19593, 19)"
      ]
     },
     "execution_count": 5,
     "metadata": {},
     "output_type": "execute_result"
    }
   ],
   "source": [
    "# 데이터를 로드해서 df 라는 변수에 담습니다.\n",
    "\n",
    "\n",
    "df_park = pd.read_csv(\"../resources/전국도시공원정보표준데이터.csv\", encoding=\"ms949\")\n",
    "df_park.shape"
   ]
  },
  {
   "cell_type": "code",
   "execution_count": 6,
   "metadata": {
    "scrolled": false
   },
   "outputs": [
    {
     "data": {
      "text/html": [
       "<div>\n",
       "<style scoped>\n",
       "    .dataframe tbody tr th:only-of-type {\n",
       "        vertical-align: middle;\n",
       "    }\n",
       "\n",
       "    .dataframe tbody tr th {\n",
       "        vertical-align: top;\n",
       "    }\n",
       "\n",
       "    .dataframe thead th {\n",
       "        text-align: right;\n",
       "    }\n",
       "</style>\n",
       "<table border=\"1\" class=\"dataframe\">\n",
       "  <thead>\n",
       "    <tr style=\"text-align: right;\">\n",
       "      <th></th>\n",
       "      <th>관리번호</th>\n",
       "      <th>공원명</th>\n",
       "      <th>공원구분</th>\n",
       "      <th>소재지도로명주소</th>\n",
       "      <th>소재지지번주소</th>\n",
       "      <th>위도</th>\n",
       "      <th>경도</th>\n",
       "      <th>공원면적</th>\n",
       "      <th>공원보유시설(운동시설)</th>\n",
       "      <th>공원보유시설(유희시설)</th>\n",
       "      <th>공원보유시설(편익시설)</th>\n",
       "      <th>공원보유시설(교양시설)</th>\n",
       "      <th>공원보유시설(기타시설)</th>\n",
       "      <th>지정고시일</th>\n",
       "      <th>관리기관명</th>\n",
       "      <th>전화번호</th>\n",
       "      <th>데이터기준일자</th>\n",
       "      <th>제공기관코드</th>\n",
       "      <th>제공기관명</th>\n",
       "    </tr>\n",
       "  </thead>\n",
       "  <tbody>\n",
       "    <tr>\n",
       "      <th>0</th>\n",
       "      <td>41135-00098</td>\n",
       "      <td>샘터공원</td>\n",
       "      <td>어린이공원</td>\n",
       "      <td>NaN</td>\n",
       "      <td>경기도 성남시 분당구 구미동 87</td>\n",
       "      <td>37.348802</td>\n",
       "      <td>127.118613</td>\n",
       "      <td>3620.1</td>\n",
       "      <td>NaN</td>\n",
       "      <td>어린이놀이터</td>\n",
       "      <td>벤치</td>\n",
       "      <td>NaN</td>\n",
       "      <td>NaN</td>\n",
       "      <td>1991-01-08</td>\n",
       "      <td>분당구녹지공원과</td>\n",
       "      <td>031-729-7461</td>\n",
       "      <td>2020-01-17</td>\n",
       "      <td>3780000</td>\n",
       "      <td>경기도 성남시</td>\n",
       "    </tr>\n",
       "    <tr>\n",
       "      <th>1</th>\n",
       "      <td>29200-00061</td>\n",
       "      <td>제2풍영정</td>\n",
       "      <td>근린공원</td>\n",
       "      <td>NaN</td>\n",
       "      <td>광주광역시 광산구 운남동 793-1, 780-1</td>\n",
       "      <td>35.177519</td>\n",
       "      <td>126.811916</td>\n",
       "      <td>26200.7</td>\n",
       "      <td>배드민턴장, 농구장</td>\n",
       "      <td>조합놀이대, 기타놀이기구</td>\n",
       "      <td>NaN</td>\n",
       "      <td>야외무대</td>\n",
       "      <td>관리사무소</td>\n",
       "      <td>1997-08-12</td>\n",
       "      <td>광주광역시 광산구청</td>\n",
       "      <td>062-960-8704</td>\n",
       "      <td>2020-07-16</td>\n",
       "      <td>3630000</td>\n",
       "      <td>광주광역시 광산구</td>\n",
       "    </tr>\n",
       "    <tr>\n",
       "      <th>2</th>\n",
       "      <td>29200-00062</td>\n",
       "      <td>맑은샘</td>\n",
       "      <td>어린이공원</td>\n",
       "      <td>광주광역시 광산구 풍영로 63</td>\n",
       "      <td>광주광역시 광산구 월곡동 681-1</td>\n",
       "      <td>35.178777</td>\n",
       "      <td>126.810674</td>\n",
       "      <td>1500.1</td>\n",
       "      <td>NaN</td>\n",
       "      <td>조합놀이, 기타놀이기구</td>\n",
       "      <td>NaN</td>\n",
       "      <td>NaN</td>\n",
       "      <td>NaN</td>\n",
       "      <td>1997-08-12</td>\n",
       "      <td>광주광역시 광산구청</td>\n",
       "      <td>062-960-8712</td>\n",
       "      <td>2020-07-16</td>\n",
       "      <td>3630000</td>\n",
       "      <td>광주광역시 광산구</td>\n",
       "    </tr>\n",
       "  </tbody>\n",
       "</table>\n",
       "</div>"
      ],
      "text/plain": [
       "          관리번호    공원명   공원구분          소재지도로명주소                     소재지지번주소  \\\n",
       "0  41135-00098   샘터공원  어린이공원               NaN          경기도 성남시 분당구 구미동 87   \n",
       "1  29200-00061  제2풍영정   근린공원               NaN  광주광역시 광산구 운남동 793-1, 780-1   \n",
       "2  29200-00062    맑은샘  어린이공원  광주광역시 광산구 풍영로 63         광주광역시 광산구 월곡동 681-1   \n",
       "\n",
       "          위도          경도     공원면적 공원보유시설(운동시설)   공원보유시설(유희시설) 공원보유시설(편익시설)  \\\n",
       "0  37.348802  127.118613   3620.1          NaN         어린이놀이터           벤치   \n",
       "1  35.177519  126.811916  26200.7   배드민턴장, 농구장  조합놀이대, 기타놀이기구          NaN   \n",
       "2  35.178777  126.810674   1500.1          NaN   조합놀이, 기타놀이기구          NaN   \n",
       "\n",
       "  공원보유시설(교양시설) 공원보유시설(기타시설)       지정고시일       관리기관명          전화번호     데이터기준일자  \\\n",
       "0          NaN          NaN  1991-01-08    분당구녹지공원과  031-729-7461  2020-01-17   \n",
       "1         야외무대        관리사무소  1997-08-12  광주광역시 광산구청  062-960-8704  2020-07-16   \n",
       "2          NaN          NaN  1997-08-12  광주광역시 광산구청  062-960-8712  2020-07-16   \n",
       "\n",
       "    제공기관코드      제공기관명  \n",
       "0  3780000    경기도 성남시  \n",
       "1  3630000  광주광역시 광산구  \n",
       "2  3630000  광주광역시 광산구  "
      ]
     },
     "execution_count": 6,
     "metadata": {},
     "output_type": "execute_result"
    }
   ],
   "source": [
    "# 미리보기를 합니다.\n",
    "\n",
    "df_park.head(3)"
   ]
  },
  {
   "cell_type": "markdown",
   "metadata": {},
   "source": [
    "## Pandas Profiling - 판다스를 통해 기술통계 값을 리포트로 작성해줌\n",
    "* [pandas-profiling/pandas-profiling: Create HTML profiling reports from pandas DataFrame objects](https://github.com/pandas-profiling/pandas-profiling)\n",
    "\n",
    "* 별도의 설치가 필요합니다.(folium 을 설치했던 것 처럼 따로 설치해야지만 사용할 수 있습니다.)\n",
    "* conda : `conda install -c conda-forge pandas-profiling`\n",
    "* pip : `pip install pandas-profiling`"
   ]
  },
  {
   "cell_type": "code",
   "execution_count": 21,
   "metadata": {},
   "outputs": [],
   "source": [
    "# 버전에 따라 기능의 차이가 있습니다. \n",
    "# 이 강좌에서 사용하는 버전은 다음과 같습니다. => 2.5.0   "
   ]
  },
  {
   "cell_type": "markdown",
   "metadata": {},
   "source": [
    "* 미리 생성해 놓은 리포트 보기 : https://corazzon.github.io/open-data-analysis-basic/05-park_pandas_profile.html"
   ]
  },
  {
   "cell_type": "code",
   "execution_count": 27,
   "metadata": {},
   "outputs": [
    {
     "ename": "TypeError",
     "evalue": "concat() got an unexpected keyword argument 'join_axes'",
     "output_type": "error",
     "traceback": [
      "\u001b[1;31m---------------------------------------------------------------------------\u001b[0m",
      "\u001b[1;31mTypeError\u001b[0m                                 Traceback (most recent call last)",
      "\u001b[1;32m<ipython-input-27-409c19084766>\u001b[0m in \u001b[0;36m<module>\u001b[1;34m\u001b[0m\n\u001b[0;32m      5\u001b[0m \u001b[1;32mfrom\u001b[0m \u001b[0mpandas_profiling\u001b[0m \u001b[1;32mimport\u001b[0m \u001b[0mProfileReport\u001b[0m\u001b[1;33m\u001b[0m\u001b[1;33m\u001b[0m\u001b[0m\n\u001b[0;32m      6\u001b[0m \u001b[1;33m\u001b[0m\u001b[0m\n\u001b[1;32m----> 7\u001b[1;33m \u001b[0mprofile\u001b[0m \u001b[1;33m=\u001b[0m \u001b[0mProfileReport\u001b[0m\u001b[1;33m(\u001b[0m\u001b[0mdf_park\u001b[0m\u001b[1;33m)\u001b[0m\u001b[1;33m\u001b[0m\u001b[1;33m\u001b[0m\u001b[0m\n\u001b[0m\u001b[0;32m      8\u001b[0m \u001b[0mprofile\u001b[0m\u001b[1;33m.\u001b[0m\u001b[0mto_file\u001b[0m\u001b[1;33m(\u001b[0m\u001b[0mouput_file\u001b[0m\u001b[1;33m=\u001b[0m\u001b[1;34m\"../resources/05-park_profile.html\"\u001b[0m\u001b[1;33m)\u001b[0m\u001b[1;33m\u001b[0m\u001b[1;33m\u001b[0m\u001b[0m\n",
      "\u001b[1;32m~\\anaconda3\\lib\\site-packages\\pandas_profiling\\__init__.py\u001b[0m in \u001b[0;36m__init__\u001b[1;34m(self, df, **kwargs)\u001b[0m\n\u001b[0;32m     64\u001b[0m         \u001b[0msample\u001b[0m \u001b[1;33m=\u001b[0m \u001b[0mkwargs\u001b[0m\u001b[1;33m.\u001b[0m\u001b[0mget\u001b[0m\u001b[1;33m(\u001b[0m\u001b[1;34m'sample'\u001b[0m\u001b[1;33m,\u001b[0m \u001b[0mdf\u001b[0m\u001b[1;33m.\u001b[0m\u001b[0mhead\u001b[0m\u001b[1;33m(\u001b[0m\u001b[1;33m)\u001b[0m\u001b[1;33m)\u001b[0m\u001b[1;33m\u001b[0m\u001b[1;33m\u001b[0m\u001b[0m\n\u001b[0;32m     65\u001b[0m \u001b[1;33m\u001b[0m\u001b[0m\n\u001b[1;32m---> 66\u001b[1;33m         \u001b[0mdescription_set\u001b[0m \u001b[1;33m=\u001b[0m \u001b[0mdescribe\u001b[0m\u001b[1;33m(\u001b[0m\u001b[0mdf\u001b[0m\u001b[1;33m,\u001b[0m \u001b[1;33m**\u001b[0m\u001b[0mkwargs\u001b[0m\u001b[1;33m)\u001b[0m\u001b[1;33m\u001b[0m\u001b[1;33m\u001b[0m\u001b[0m\n\u001b[0m\u001b[0;32m     67\u001b[0m \u001b[1;33m\u001b[0m\u001b[0m\n\u001b[0;32m     68\u001b[0m         self.html = to_html(sample,\n",
      "\u001b[1;32m~\\anaconda3\\lib\\site-packages\\pandas_profiling\\describe.py\u001b[0m in \u001b[0;36mdescribe\u001b[1;34m(df, bins, check_correlation, correlation_threshold, correlation_overrides, check_recoded, pool_size, **kwargs)\u001b[0m\n\u001b[0;32m    390\u001b[0m             \u001b[1;32mif\u001b[0m \u001b[0mname\u001b[0m \u001b[1;32mnot\u001b[0m \u001b[1;32min\u001b[0m \u001b[0mnames\u001b[0m\u001b[1;33m:\u001b[0m\u001b[1;33m\u001b[0m\u001b[1;33m\u001b[0m\u001b[0m\n\u001b[0;32m    391\u001b[0m                 \u001b[0mnames\u001b[0m\u001b[1;33m.\u001b[0m\u001b[0mappend\u001b[0m\u001b[1;33m(\u001b[0m\u001b[0mname\u001b[0m\u001b[1;33m)\u001b[0m\u001b[1;33m\u001b[0m\u001b[1;33m\u001b[0m\u001b[0m\n\u001b[1;32m--> 392\u001b[1;33m     \u001b[0mvariable_stats\u001b[0m \u001b[1;33m=\u001b[0m \u001b[0mpd\u001b[0m\u001b[1;33m.\u001b[0m\u001b[0mconcat\u001b[0m\u001b[1;33m(\u001b[0m\u001b[0mldesc\u001b[0m\u001b[1;33m,\u001b[0m \u001b[0mjoin_axes\u001b[0m\u001b[1;33m=\u001b[0m\u001b[0mpd\u001b[0m\u001b[1;33m.\u001b[0m\u001b[0mIndex\u001b[0m\u001b[1;33m(\u001b[0m\u001b[1;33m[\u001b[0m\u001b[0mnames\u001b[0m\u001b[1;33m]\u001b[0m\u001b[1;33m)\u001b[0m\u001b[1;33m,\u001b[0m \u001b[0maxis\u001b[0m\u001b[1;33m=\u001b[0m\u001b[1;36m1\u001b[0m\u001b[1;33m)\u001b[0m\u001b[1;33m\u001b[0m\u001b[1;33m\u001b[0m\u001b[0m\n\u001b[0m\u001b[0;32m    393\u001b[0m     \u001b[0mvariable_stats\u001b[0m\u001b[1;33m.\u001b[0m\u001b[0mcolumns\u001b[0m\u001b[1;33m.\u001b[0m\u001b[0mnames\u001b[0m \u001b[1;33m=\u001b[0m \u001b[0mdf\u001b[0m\u001b[1;33m.\u001b[0m\u001b[0mcolumns\u001b[0m\u001b[1;33m.\u001b[0m\u001b[0mnames\u001b[0m\u001b[1;33m\u001b[0m\u001b[1;33m\u001b[0m\u001b[0m\n\u001b[0;32m    394\u001b[0m \u001b[1;33m\u001b[0m\u001b[0m\n",
      "\u001b[1;31mTypeError\u001b[0m: concat() got an unexpected keyword argument 'join_axes'"
     ]
    }
   ],
   "source": [
    "# pandas_profiling 의 ProfileReport 를 불러와 표현합니다.\n",
    "# 이 때 title은 \"도시공원 표준 데이터\" 로 하고 주피터 노트북에서 바로 보면 iframe을 통해 화면이 작게 보이기 때문에\n",
    "# 별도의 html 파일로 생성해서 그려보세요.\n",
    "\n",
    "from pandas_profiling import ProfileReport\n",
    "\n",
    "profile = ProfileReport(df_park)\n",
    "profile.to_file(ouput_file=\"../resources/05-park_profile.html\")"
   ]
  },
  {
   "cell_type": "markdown",
   "metadata": {},
   "source": [
    "## 기본 정보 보기"
   ]
  },
  {
   "cell_type": "code",
   "execution_count": 9,
   "metadata": {},
   "outputs": [
    {
     "name": "stdout",
     "output_type": "stream",
     "text": [
      "<class 'pandas.core.frame.DataFrame'>\n",
      "RangeIndex: 19593 entries, 0 to 19592\n",
      "Data columns (total 19 columns):\n",
      " #   Column        Non-Null Count  Dtype  \n",
      "---  ------        --------------  -----  \n",
      " 0   관리번호          19593 non-null  object \n",
      " 1   공원명           19593 non-null  object \n",
      " 2   공원구분          19593 non-null  object \n",
      " 3   소재지도로명주소      7730 non-null   object \n",
      " 4   소재지지번주소       18672 non-null  object \n",
      " 5   위도            19593 non-null  float64\n",
      " 6   경도            19593 non-null  float64\n",
      " 7   공원면적          19593 non-null  object \n",
      " 8   공원보유시설(운동시설)  5046 non-null   object \n",
      " 9   공원보유시설(유희시설)  7152 non-null   object \n",
      " 10  공원보유시설(편익시설)  5397 non-null   object \n",
      " 11  공원보유시설(교양시설)  1245 non-null   object \n",
      " 12  공원보유시설(기타시설)  3166 non-null   object \n",
      " 13  지정고시일         16604 non-null  object \n",
      " 14  관리기관명         18379 non-null  object \n",
      " 15  전화번호          17934 non-null  object \n",
      " 16  데이터기준일자       19593 non-null  object \n",
      " 17  제공기관코드        19593 non-null  object \n",
      " 18  제공기관명         19593 non-null  object \n",
      "dtypes: float64(2), object(17)\n",
      "memory usage: 2.8+ MB\n"
     ]
    }
   ],
   "source": [
    "# info로 기본 정보를 봅니다.\n",
    "\n",
    "df_park.info()"
   ]
  },
  {
   "cell_type": "code",
   "execution_count": 10,
   "metadata": {},
   "outputs": [
    {
     "data": {
      "text/plain": [
       "관리번호                0\n",
       "공원명                 0\n",
       "공원구분                0\n",
       "소재지도로명주소        11863\n",
       "소재지지번주소           921\n",
       "위도                  0\n",
       "경도                  0\n",
       "공원면적                0\n",
       "공원보유시설(운동시설)    14547\n",
       "공원보유시설(유희시설)    12441\n",
       "공원보유시설(편익시설)    14196\n",
       "공원보유시설(교양시설)    18348\n",
       "공원보유시설(기타시설)    16427\n",
       "지정고시일            2989\n",
       "관리기관명            1214\n",
       "전화번호             1659\n",
       "데이터기준일자             0\n",
       "제공기관코드              0\n",
       "제공기관명               0\n",
       "dtype: int64"
      ]
     },
     "execution_count": 10,
     "metadata": {},
     "output_type": "execute_result"
    }
   ],
   "source": [
    "# 결측치의 수를 구합니다.\n",
    "\n",
    "df_park.isnull().sum()"
   ]
  },
  {
   "cell_type": "code",
   "execution_count": 11,
   "metadata": {},
   "outputs": [
    {
     "data": {
      "text/plain": [
       "관리번호             0.000000\n",
       "공원명              0.000000\n",
       "공원구분             0.000000\n",
       "소재지도로명주소        60.547134\n",
       "소재지지번주소          4.700658\n",
       "위도               0.000000\n",
       "경도               0.000000\n",
       "공원면적             0.000000\n",
       "공원보유시설(운동시설)    74.245904\n",
       "공원보유시설(유희시설)    63.497167\n",
       "공원보유시설(편익시설)    72.454448\n",
       "공원보유시설(교양시설)    93.645690\n",
       "공원보유시설(기타시설)    83.841168\n",
       "지정고시일           15.255448\n",
       "관리기관명            6.196090\n",
       "전화번호             8.467310\n",
       "데이터기준일자          0.000000\n",
       "제공기관코드           0.000000\n",
       "제공기관명            0.000000\n",
       "dtype: float64"
      ]
     },
     "execution_count": 11,
     "metadata": {},
     "output_type": "execute_result"
    }
   ],
   "source": [
    "# 결측치 비율 구하기\n",
    "# 결측의 평균을 통해 비율을 구하고 100을 곱해줍니다.\n",
    "\n",
    "df_park.isnull().mean() * 100"
   ]
  },
  {
   "cell_type": "markdown",
   "metadata": {},
   "source": [
    "## 결측치 시각화\n",
    "* [ResidentMario/missingno: Missing data visualization module for Python.](https://github.com/ResidentMario/missingno)"
   ]
  },
  {
   "cell_type": "code",
   "execution_count": null,
   "metadata": {},
   "outputs": [],
   "source": [
    "# 이전 챕터에서 설치하지 않았다면 아나콘다에 missingno를 설치합니다. \n",
    "# !conda install -c conda-forge missingno\n",
    "# 라이브러리를 로드합니다."
   ]
  },
  {
   "cell_type": "code",
   "execution_count": 12,
   "metadata": {},
   "outputs": [
    {
     "data": {
      "text/plain": [
       "<matplotlib.axes._subplots.AxesSubplot at 0x1914f81e648>"
      ]
     },
     "execution_count": 12,
     "metadata": {},
     "output_type": "execute_result"
    },
    {
     "data": {
      "image/png": "[encoded data removed]",
      "text/plain": [
       "<Figure size 1800x720 with 2 Axes>"
      ]
     },
     "metadata": {},
     "output_type": "display_data"
    }
   ],
   "source": [
    "# 폰트 설정이 해제되었다면 다시 설정해 주세요.\n",
    "\n",
    "import missingno as msno\n",
    "msno.matrix(df_park)"
   ]
  },
  {
   "cell_type": "markdown",
   "metadata": {},
   "source": [
    "* 그래프의 색상 선택 : [Choosing Colormaps in Matplotlib — Matplotlib 3.1.0 documentation](https://matplotlib.org/3.1.0/tutorials/colors/colormaps.html)"
   ]
  },
  {
   "cell_type": "code",
   "execution_count": 13,
   "metadata": {},
   "outputs": [
    {
     "data": {
      "text/plain": [
       "<matplotlib.axes._subplots.AxesSubplot at 0x1915153b288>"
      ]
     },
     "execution_count": 13,
     "metadata": {},
     "output_type": "execute_result"
    },
    {
     "data": {
      "image/png": "[encoded data removed]",
      "text/plain": [
       "<Figure size 432x288 with 1 Axes>"
      ]
     },
     "metadata": {},
     "output_type": "display_data"
    }
   ],
   "source": [
    "# seaborn을 통해 위와 같은 결측치 그래프를 그려봅니다.\n",
    "\n",
    "sns.barplot(data=df_park.isnull().sum())"
   ]
  },
  {
   "cell_type": "markdown",
   "metadata": {},
   "source": [
    "# 데이터 전처리\n",
    "* 불필요한 컬럼 제거\n",
    "* 시도 결측치 처리\n",
    "    * 다른 데이터로 대체\n",
    "    * 도로명 혹은 지번 둘 중 하나만 있다면 있는 데이터로 대체\n",
    "* 아웃라이어 데이터 제거 혹은 대체\n",
    "    * 위경도가 국내 범위를 벗어나는 데이터의 경우 제외하고 그리도록 처리"
   ]
  },
  {
   "cell_type": "markdown",
   "metadata": {},
   "source": [
    "## 불필요한 컬럼 제거하기"
   ]
  },
  {
   "cell_type": "code",
   "execution_count": null,
   "metadata": {},
   "outputs": [],
   "source": [
    "# 전체 컬럼명을 출력해 봅니다.\n",
    "\n"
   ]
  },
  {
   "cell_type": "code",
   "execution_count": null,
   "metadata": {},
   "outputs": [],
   "source": [
    "# drop 으로 'Unnamed: 19' 를 제거하기\n",
    "\n"
   ]
  },
  {
   "cell_type": "markdown",
   "metadata": {},
   "source": [
    "## 결측치 대체\n",
    "### 도로명 주소와 지번 주소 \n",
    "* 둘 중 하나만 있을 때 나머지 데이터로 결측치 대체하기"
   ]
  },
  {
   "cell_type": "code",
   "execution_count": null,
   "metadata": {},
   "outputs": [],
   "source": [
    "# 도로명 주소의 널값 수\n",
    "\n"
   ]
  },
  {
   "cell_type": "code",
   "execution_count": null,
   "metadata": {},
   "outputs": [],
   "source": [
    "# 지번 주소의 널값 수\n",
    "\n"
   ]
  },
  {
   "cell_type": "code",
   "execution_count": null,
   "metadata": {},
   "outputs": [],
   "source": [
    "# \"소재지도로명주소\"와 \"소재지지번주소\"가 모두 결측치가 아닌 데이터를 찾습니다.\n",
    "\n"
   ]
  },
  {
   "cell_type": "code",
   "execution_count": null,
   "metadata": {},
   "outputs": [],
   "source": [
    "# \"소재지도로명주소\"의 결측치를 fillna 를 통해 \"소재지지번주소\"로 채웁니다.\n",
    "\n"
   ]
  },
  {
   "cell_type": "code",
   "execution_count": null,
   "metadata": {
    "scrolled": true
   },
   "outputs": [],
   "source": [
    "# \"소재지도로명주소\"의 결측치수를 세어봅니다.\n",
    "\n"
   ]
  },
  {
   "cell_type": "code",
   "execution_count": null,
   "metadata": {},
   "outputs": [],
   "source": [
    "# \"소재지도로명주소\"와 \"소재지지번주소\"가 모두 결측치인 데이터를 찾습니다.\n",
    "\n"
   ]
  },
  {
   "cell_type": "markdown",
   "metadata": {},
   "source": [
    "## 파생변수 만들기\n",
    "### 주소를 통한 시도, 구군 변수 생성하기"
   ]
  },
  {
   "cell_type": "code",
   "execution_count": null,
   "metadata": {},
   "outputs": [],
   "source": [
    "# 소재지도로명주소로 시도, 구군 변수 생성하기\n",
    "# .str.split(' ', expand=True)[0] 을 통해 공백문자로 분리하고 리스트의 첫번째 값을 가져오도록 하기\n",
    "\n"
   ]
  },
  {
   "cell_type": "code",
   "execution_count": null,
   "metadata": {
    "scrolled": true
   },
   "outputs": [],
   "source": [
    "# 구군 가져오기\n",
    "\n"
   ]
  },
  {
   "cell_type": "code",
   "execution_count": null,
   "metadata": {},
   "outputs": [],
   "source": [
    "# 시도 데이터의 빈도수 세어보기\n",
    "\n"
   ]
  },
  {
   "cell_type": "code",
   "execution_count": null,
   "metadata": {},
   "outputs": [],
   "source": [
    "# 강원은 \"강원도\"로 변경해줄 필요가 보입니다.\n",
    "\n"
   ]
  },
  {
   "cell_type": "markdown",
   "metadata": {},
   "source": [
    "## 이상치 제거\n",
    "* 경도, 위도의 이상치 처리하기"
   ]
  },
  {
   "cell_type": "code",
   "execution_count": null,
   "metadata": {
    "scrolled": false
   },
   "outputs": [],
   "source": [
    "# 위경도 시각화\n",
    "\n"
   ]
  },
  {
   "cell_type": "code",
   "execution_count": null,
   "metadata": {},
   "outputs": [],
   "source": [
    "# 위 지도로 위도와 경도의 아웃라이어 데이터를 제외하고 출력해 봅니다.\n",
    "# 좀 더 정확하게 출력하려면 대한민국 위경도 데이터 범위를 다시 넣어줍니다. \n",
    "# 이상치를 제거한 데이터를 df_park 라는 새로운 변수에 담습니다.\n",
    "\n"
   ]
  },
  {
   "cell_type": "code",
   "execution_count": null,
   "metadata": {},
   "outputs": [],
   "source": [
    "# 위도 경도의 아웃라이어 데이터가 제거되었는지 확인함\n",
    "\n"
   ]
  },
  {
   "cell_type": "code",
   "execution_count": null,
   "metadata": {},
   "outputs": [],
   "source": [
    "# 위도와 경도의 요약값을 describe 로 봅니다.\n",
    "\n"
   ]
  },
  {
   "cell_type": "code",
   "execution_count": null,
   "metadata": {},
   "outputs": [],
   "source": [
    "# 위경도가 잘못입력된 데이터를 봅니다.\n",
    "# 주소가 잘못되지는 않았습니다.\n",
    "# 주소를 통해 위경도를 다시 받아올 필요가 있습니다.\n",
    "\n"
   ]
  },
  {
   "cell_type": "markdown",
   "metadata": {},
   "source": [
    "## 날짜 데이터 다루기"
   ]
  },
  {
   "cell_type": "code",
   "execution_count": null,
   "metadata": {},
   "outputs": [],
   "source": [
    "# 지정고시일의 데이터 타입을 봅니다.\n",
    "\n"
   ]
  },
  {
   "cell_type": "code",
   "execution_count": null,
   "metadata": {},
   "outputs": [],
   "source": [
    "# 지정고시일의 데이터 타입을 datetime 형태로 변경합니다.\n",
    "\n"
   ]
  },
  {
   "cell_type": "code",
   "execution_count": null,
   "metadata": {},
   "outputs": [],
   "source": [
    "# 고시연도와 고시월을 지정고시일에서 추출해서 파생변수를 만듭니다.\n",
    "\n"
   ]
  },
  {
   "cell_type": "code",
   "execution_count": null,
   "metadata": {},
   "outputs": [],
   "source": [
    "# 화랑공원의 고시연도를 찾아봅니다. 데이터 전처리가 맞게 되었는지 확인해 봅니다.\n",
    "\n"
   ]
  },
  {
   "cell_type": "code",
   "execution_count": null,
   "metadata": {},
   "outputs": [],
   "source": [
    "# 고시연도의 분포를 distplot 으로 그립니다.\n",
    "# 이 때, 결측치가 있으면 오류가 나기 때문에 결측치가 없는 데이터만 따로 모아 그립니다.\n",
    "\n"
   ]
  },
  {
   "cell_type": "markdown",
   "metadata": {},
   "source": [
    "* 판다스 스타일링 : [Styling — pandas documentation](https://pandas.pydata.org/pandas-docs/stable/user_guide/style.html)\n",
    "* 숫자의 많고 적음에 따라 heatmap 처럼 스타일을 표현 가능 합니다."
   ]
  },
  {
   "cell_type": "code",
   "execution_count": null,
   "metadata": {
    "scrolled": false
   },
   "outputs": [],
   "source": [
    "# 연도와 월별 고시 현황을 pivot_table로 그려봅니다.\n",
    "# year_month 라는 변수에 담아 재사용 합니다.\n",
    "# 데이터가 많기 때문에 2000년보다 크고 2019년보다 작은 연도의 데이터만 봅니다.\n",
    "\n"
   ]
  },
  {
   "cell_type": "markdown",
   "metadata": {},
   "source": [
    "## 텍스트 데이터 다루기\n",
    "### 정규표현식 \n",
    "\n",
    "* [정규 표현식 - 위키백과, 우리 모두의 백과사전](https://ko.wikipedia.org/wiki/%EC%A0%95%EA%B7%9C_%ED%91%9C%ED%98%84%EC%8B%9D)\n",
    "\n",
    "\n",
    "* 파이썬 공식문서 정규표현식 참고하기 : \n",
    "    * https://docs.python.org/3.8/library/re.html#re.sub\n",
    "    \n",
    "    \n",
    "* 문자열 바꾸기 : re.sub(\"규칙\", \"패턴\", \"데이터\")\n",
    "    * https://docs.python.org/3.8/library/re.html#text-munging\n",
    "\n",
    "\n",
    "* 정규표현식 문자열 패턴\n",
    "    * https://docs.python.org/3.8/howto/regex.html#matching-characters\n",
    "\n",
    "    \n",
    "    \n",
    "* [    ] : 일치시킬 문자 세트의 패턴\n",
    "* [가나다] : 가 or 나 or 다 중에 하나를 포함하고 있는지\n",
    "* [가-힣] : 한글 가부터 힣까의 문자 중 하나를 포함하고 있는지\n",
    "* [0-9] : 0~9까지의 숫자 중 하나를 포함하고 있는지\n",
    "* [^0-9] : 숫자를 포함하고 있지 않음\n",
    "* [^가-힣] : 한글이 포함되어 있지 않음\n",
    "* [가-힣+] : 한글이 하나 이상 포함되는지\n",
    "\n",
    "\n",
    "| 클래스 | 표현식 | 설명 |\n",
    "|----|-----|----|\n",
    "|\\d | [0-9]|십진수와 일치|\n",
    "|\\D| [^0-9] | 숫자가 아닌 문자와 일치|\n",
    "|\\s |[\\t\\n\\r\\f\\v] | 공백 문자와 일치 |\n",
    "|\\S |[^\\t\\n\\r\\f\\v]| 공백이 아닌 문자와 일치|\n",
    "| \\w| [a-zA-Z0-9_] | 모든 숫자 영문자와 일치|\n",
    "| \\W| [^a-zA-Z0-9_]| 영문자, 숫자가 아닌 것과 일치|\n",
    "\n",
    "\n",
    "표현식\t설명\n",
    "\n",
    "|표현식 | 설명 |\t\n",
    "|----|-----|\n",
    "|^x\t| 문자열의 시작을 표현하며 x 문자로 시작|\n",
    "|x$\t| 문자열의 종료를 표현하며 x 문자로 종료|\n",
    "|.x\t| 임의의 한 문자의 자리수를 표현하며 문자열이 x 로 끝남|\n",
    "|x+\t| 반복을 표현하며 x 문자가 한번 이상 반복됨|\n",
    "|x*\t| 반복여부를 표현하며 x 문자가 0번 또는 그 이상 반복됨|\n",
    "|x?\t| 존재여부를 표현하며 x 문자가 존재할 수도, 존재하지 않을 수도 있음|\n",
    "|x\\|y\t| or 를 표현하며 x 또는 y 문자가 존재함|\n",
    "|(x)\t| 그룹을 표현하며 x 를 그룹으로 처리함|\n",
    "|(x)(y)\t| 그룹들의 집합을 표현하며 순서대로 번호를 부여하여 x, y 는 각 그룹의 데이터로 관리|\n",
    "|(x)(?:y)\t| 그룹들의 집합에 대한 예외를 표현하며 그룹 집합으로 관리되지 않음|\n",
    "|x{n}\t| 반복을 표현하며 x 문자가 n번 반복됨|\n",
    "|x{n,}\t| 반복을 표현하며 x 문자가 n번 이상 반복됨\n",
    "|x{n,m}\t| 반복을 표현하며 x 문자가 최소 n번 이상 최대 m 번 이하로 반복됨|\n"
   ]
  },
  {
   "cell_type": "code",
   "execution_count": null,
   "metadata": {},
   "outputs": [],
   "source": [
    "# 정규표현식 라이브러리를 로드합니다.\n",
    "# 설치가 필요 없이 파이썬에 내장되어 있는 라이브러리 입니다.\n",
    "# 파이썬에 배터리 포함됨 이라는 특징이 있는데 이런 여러 표준 라이브러리가 잘 갖춰져 있습니다.\n",
    " "
   ]
  },
  {
   "cell_type": "markdown",
   "metadata": {},
   "source": [
    "### 공원 보유시설"
   ]
  },
  {
   "cell_type": "code",
   "execution_count": null,
   "metadata": {},
   "outputs": [],
   "source": [
    "# 컬럼이 너무 많으면 끝까지 보이지 않습니다. \n",
    "# options.display 를 사용해 max_columns 값을 채워줍니다.\n",
    "\n"
   ]
  },
  {
   "cell_type": "code",
   "execution_count": null,
   "metadata": {
    "scrolled": false
   },
   "outputs": [],
   "source": [
    "# 데이터를 미리보기 합니다.\n",
    "\n"
   ]
  },
  {
   "cell_type": "markdown",
   "metadata": {},
   "source": [
    "### 운동시설\n",
    "* 텍스트 데이터의 빈도수를 구합니다.\n",
    "* 한 컬럼에 여러 텍스트가 , 혹은 - 등의 특수문자로 구분되어 있습니다.\n",
    "* 데이터 전처리를 통해 텍스트의 빈도수를 구합니다."
   ]
  },
  {
   "cell_type": "code",
   "execution_count": null,
   "metadata": {},
   "outputs": [],
   "source": [
    "# \"공원보유시설(운동시설)\" 의 빈도수를 세어 아래에서 5개만 봅니다.\n"
   ]
  },
  {
   "cell_type": "code",
   "execution_count": null,
   "metadata": {},
   "outputs": [],
   "source": [
    "# \"공원보유시설(운동시설)\"의 unique 값을 구하고 리스트 형태로 만듭니다.\n",
    "# 그리고 다시 str 형태로 변경하고 gym 이라는 변수에 담습니다.\n",
    "\n",
    "\n"
   ]
  },
  {
   "cell_type": "code",
   "execution_count": null,
   "metadata": {},
   "outputs": [],
   "source": [
    "# 특수문자로 구분된 값을 , 로 구분되게 변경합니다.\n",
    "# replace 기능을 사용해서 ,를 빈문자로 공백을 , 로 +를 ,로 변경합니다.\n",
    "\n"
   ]
  },
  {
   "cell_type": "code",
   "execution_count": null,
   "metadata": {
    "scrolled": false
   },
   "outputs": [],
   "source": [
    "# 제거할 특수문자를 빈문자로 대체합니다.\n",
    "# re.sub('[?.,;:|\\)*~`’!^\\-_+<>@\\#$%&-=#}※]', '', text)\n",
    "# 정규표현식에서 +, *, . 등은 특별한 의미를 갖습니다. \n",
    "# 이런 문자를 제거할 때는 \\를 통해 예외처리를 합니다. \n",
    "# 예를들어 .이라면 \\. 으로 사용합니다.\n",
    "# 여기에서는 숫자와 .을 제거하도록 합니다.\n",
    "\n"
   ]
  },
  {
   "cell_type": "code",
   "execution_count": null,
   "metadata": {},
   "outputs": [],
   "source": [
    "# split을 사용해 문자열을 ,로 리스트형태로 만든 후에 \n",
    "# 판다스의 시리즈 형태로 데이터를 만들면 빈도수를 구할 수 있습니다.\n",
    "# 빈도수는 gym_count 라는 변수에 담습니다.\n",
    "\n"
   ]
  },
  {
   "cell_type": "code",
   "execution_count": null,
   "metadata": {},
   "outputs": [],
   "source": [
    "# 빈도수를 구한 gym_count 변수에서 head를 통해 상위 50개 단어에 대한 그래프를 그립니다.\n",
    "\n"
   ]
  },
  {
   "cell_type": "markdown",
   "metadata": {},
   "source": [
    "### 워드클라우드로 빈도수 표현하기\n",
    "[amueller/word_cloud: A little word cloud generator in Python](https://github.com/amueller/word_cloud)\n",
    "\n",
    "* 별도의 설치가 필요합니다. \n",
    "* 다음 명령어로 설치가 가능합니다. conda prompt 혹은 터미널을 열어 설치해 주세요.\n",
    "\n",
    "* conda 사용시 : `conda install -c conda-forge wordcloud`\n",
    "* pip 사용시 : `pip install wordcloud`"
   ]
  },
  {
   "cell_type": "code",
   "execution_count": null,
   "metadata": {},
   "outputs": [],
   "source": [
    "# 공식문서의 튜토리얼을 보고 wordcloud를 그리는 함수를 만들어 봅니다.\n",
    "# 이때 폰트 설정시 폰트명이 아닌 폰트의 설치 경로를 입력해 주셔야 합니다.\n",
    "# 윈도우 : r\"C:\\Windows\\Fonts\\malgun.ttf\" 해당 경로에 폰트가 있는지 확인을 해주세요.\n",
    "# 맥 : r\"/Library/Fonts/AppleGothic.ttf\"\n",
    "# 나눔고딕 등의 폰트를 설치했다면 : '/Library/Fonts/NanumBarunGothic.ttf'\n",
    "\n",
    "\n"
   ]
  },
  {
   "cell_type": "code",
   "execution_count": null,
   "metadata": {
    "scrolled": false
   },
   "outputs": [],
   "source": [
    "# 위에서 만든 함수에 전처리한 text인 gym을 넣어 그려봅니다.\n",
    "\n",
    "\n"
   ]
  },
  {
   "cell_type": "markdown",
   "metadata": {},
   "source": [
    "### 편익시설"
   ]
  },
  {
   "cell_type": "code",
   "execution_count": null,
   "metadata": {},
   "outputs": [],
   "source": [
    "# 편익시설에서 필요 없는 문자를 제거하고\n",
    "# 토큰화를 위해 각 시설을 \",\" 로 구분하도록 전처리를 하는 함수를 구현합니다. \n",
    "# 함수명은 get_string 으로 합니다.\n"
   ]
  },
  {
   "cell_type": "code",
   "execution_count": null,
   "metadata": {
    "scrolled": true
   },
   "outputs": [],
   "source": [
    "# 함수가 잘 구현되었는지 확인해 봅니다.\n",
    "# 다음의 문자를 전처리 했을 때  \n",
    "# \"[1. '화장실' 5, 2. 주차장, -, nan]\" 전처리 후 '화장실,주차장,' 가 출력되는지 확인해 주세요.\n",
    "\n"
   ]
  },
  {
   "cell_type": "code",
   "execution_count": null,
   "metadata": {},
   "outputs": [],
   "source": [
    "# 결측치를 넣어봅니다. 오류가 나지않는지 확인해 주세요.\n",
    "\n",
    "\n"
   ]
  },
  {
   "cell_type": "code",
   "execution_count": null,
   "metadata": {
    "scrolled": true
   },
   "outputs": [],
   "source": [
    "# map을 통해 위에서 구현한 함수를 적용해 줍니다.\n",
    "# 원본과 비교해 보기 위해 \"편익시설\"이라는 새로운 컬럼을 만듭니다.\n"
   ]
  },
  {
   "cell_type": "code",
   "execution_count": null,
   "metadata": {},
   "outputs": [],
   "source": [
    "# 전처리 한 \"편익시설\"의 빈도수를 구하고 \n",
    "# tail 로 끝부분에 있는 데이터를 미리보기 합니다.\n",
    "\n"
   ]
  },
  {
   "cell_type": "code",
   "execution_count": null,
   "metadata": {},
   "outputs": [],
   "source": [
    "# 문자열을 연결해 주는 join 으로 편익시설을 연결해 주는 방법이 있습니다.\n",
    "# 이 때, 결측치가 있으면 결측치는 숫자형태이기 때문에 문자와 연결되지 않아 오류가 납니다.\n",
    "# 따라서 결측치를 제외한 값만 가져와서 연결합니다.\n",
    "\n"
   ]
  },
  {
   "cell_type": "code",
   "execution_count": null,
   "metadata": {},
   "outputs": [],
   "source": [
    "# 위에서 전처리한 \"편익시설\" 컬럼을 리스트 형태로 만들고 다시 str 으로 변환 합니다. \n",
    "# 위에서 만든 get_string 함수로 전처리를 합니다.\n",
    "\n"
   ]
  },
  {
   "cell_type": "code",
   "execution_count": null,
   "metadata": {},
   "outputs": [],
   "source": [
    "# ,가 2개 이상 들어가면 하나로 변경합니다.\n",
    "# '화장실,주차장,,,' 텍스트를 정규표현식으로 바꿔봅니다.\n",
    "\n"
   ]
  },
  {
   "cell_type": "code",
   "execution_count": null,
   "metadata": {},
   "outputs": [],
   "source": [
    "# 다시 \",\"로 텍스트를 분리하고 판다스의 Series 형태로 만들고 value_counts 로 빈도수를 계산합니다.\n",
    "\n",
    "\n"
   ]
  },
  {
   "cell_type": "code",
   "execution_count": null,
   "metadata": {},
   "outputs": [],
   "source": [
    "# 상위 50개 단어에 대해 막대그래프를 그려봅니다.\n",
    "\n"
   ]
  },
  {
   "cell_type": "code",
   "execution_count": null,
   "metadata": {},
   "outputs": [],
   "source": [
    "# 편익시설에 대한 워드클라우드를 위에서 정의한 wordcloud 함수로 그려봅니다.\n",
    "\n"
   ]
  },
  {
   "cell_type": "markdown",
   "metadata": {},
   "source": [
    "### 키워드 별 빈도수 구하기\n",
    "* 위에서 빈도수를 구해보니 \"파고라\", \"파고라등\" 이라는 두 개의 단어가 다른 빈도로 세어졌습니다.\n",
    "* \"화장실\"도 \"화장실동\", \"공중화장실\" 등 다양한 텍스트가 있는 것을 볼 수 있습니다.\n",
    "* 일일이 전처리를 해주면 좋지만 데이터 전처리에는 많은 예외가 등장합니다.\n",
    "* 그래서 때로는 보고자 하는 키워드를 넣고 빈도수를 구하는게 전처리를 하는 작업보다 빠를 때도 있습니다.\n",
    "* 여기에서는 운동시설이나 편의시설이 있는데 특정 시설을 키워드에 넣고 구하는 방법을 사용해 봅니다."
   ]
  },
  {
   "cell_type": "code",
   "execution_count": null,
   "metadata": {},
   "outputs": [],
   "source": [
    "# \"공원보유시설(편익시설)\" 에서 문자열 처리를 하기 위해 결측치를 제외한 값을 가져옵니다.\n",
    "# df_fac 이라는 변수에 담습니다.\n",
    "\n"
   ]
  },
  {
   "cell_type": "code",
   "execution_count": null,
   "metadata": {},
   "outputs": [],
   "source": [
    "# facilities 리스트에 있는 값으로 for문을 활용해 컬럼을 만듭니다.\n",
    "# 해당 단어가 들어가면 True, 아니면 False로 값이 표현되도록 합니다.\n",
    "\n"
   ]
  },
  {
   "cell_type": "code",
   "execution_count": null,
   "metadata": {},
   "outputs": [],
   "source": [
    "# facilities 리스트로 만든 각 컬럼의 빈도수를 구합니다. \n",
    "\n"
   ]
  },
  {
   "cell_type": "markdown",
   "metadata": {},
   "source": [
    "## 특정 정보 마스킹\n",
    "### 전화번호 마스킹"
   ]
  },
  {
   "cell_type": "code",
   "execution_count": null,
   "metadata": {},
   "outputs": [],
   "source": [
    "# 가운데가 4자리일 때 번호 마스킹 \"010-1234-5678\"\n",
    "# re.sub(\"규칙\", \"패턴\", \"데이터\")\n",
    "# 규칙\n",
    "# (\\d{3}) 는 숫자 3자리를 의미합니다.\n",
    "# (\\d{1,2}) 는 숫자 1~2자리를 의미합니다.\n",
    "# 패턴\n",
    "# r\"\\1-\\2**-**\\5\" 의 \"\\숫자\"는 앞에서 () 안에 정의한 값의 순서를 의미합니다. \n",
    "# 변수의 순서라고 생각해도 됩니다.\n",
    "# 여기에서 \\3, \\4는 쓰지 않고 * 로 대체했습니다.\n",
    "# r은 raw를 의미합니다.\n",
    "\n"
   ]
  },
  {
   "cell_type": "code",
   "execution_count": null,
   "metadata": {},
   "outputs": [],
   "source": [
    "# 가운데가 3자리일 때 번호 마스킹이 잘 동작하는지 확인 \"010-123-5678\"\n",
    "\n"
   ]
  },
  {
   "cell_type": "code",
   "execution_count": null,
   "metadata": {},
   "outputs": [],
   "source": [
    "# 가운데가 2자리일 때는 마스킹 없이 보이는지 확인하기 \"010-12-5678\"\n",
    "\n"
   ]
  },
  {
   "cell_type": "code",
   "execution_count": null,
   "metadata": {},
   "outputs": [],
   "source": [
    "# 국가 번호가 들어갈 때 확인하기 \"+82-10-1234-5678\"\n",
    "# - 가 들어가거나 여러 예외사항이 있을 때 마스킹 되지 않을 수 있음 그렇다면 함수를 만들어서 해결해 보기\n",
    "\n"
   ]
  },
  {
   "cell_type": "code",
   "execution_count": null,
   "metadata": {},
   "outputs": [],
   "source": [
    "# 함수를 통해 가운데 들어오는 번호를 마스킹 하도록 처리\n",
    "# 국제번호 등 다양한 형식의 번호가 들어왔을 때 \n",
    "# - 를 기준으로 뒤에서 두 번째 항목을 마스킹 처리 하되, \n",
    "# 마지막 자리는 앞 두자리만 마스킹 합니다.\n",
    "# 함수명은 mask_phone_number 로 합니다.\n",
    "\n"
   ]
  },
  {
   "cell_type": "code",
   "execution_count": null,
   "metadata": {},
   "outputs": [],
   "source": [
    "# 결측치가 들어갔을 때 오류가 날 수 있기 때문에 결측치를 체크합니다.\n",
    "\n"
   ]
  },
  {
   "cell_type": "code",
   "execution_count": null,
   "metadata": {},
   "outputs": [],
   "source": [
    "# 위에서 만든 함수를 map을 통해 \"전화번호\" 컬럼에 적용합니다.\n",
    "\n"
   ]
  },
  {
   "cell_type": "markdown",
   "metadata": {},
   "source": [
    "### 이메일 주소 마스킹\n",
    "* 해당 데이터에는 이메일 주소가 없지만 정규표현식을 더 연습해 보기 위해 이메일주소도 마스킹처리를 해봅니다."
   ]
  },
  {
   "cell_type": "code",
   "execution_count": null,
   "metadata": {},
   "outputs": [],
   "source": [
    "# 이메일 주소의 형식만 남기고 모두 마스크처리 합니다.\n",
    "email = \"address@mail.com\"\n"
   ]
  },
  {
   "cell_type": "code",
   "execution_count": null,
   "metadata": {},
   "outputs": [],
   "source": [
    "# 이메일 주소 아이디의 일부만 마스크처리 합니다. \n",
    "# 이 때 맨 앞과 맨 뒤 문자는 그대로 놔두고 나머지 문자에 대해 마스크 처리리를 합니다.\n",
    "email = \"address@mail.com\"\n",
    "\n"
   ]
  },
  {
   "cell_type": "code",
   "execution_count": null,
   "metadata": {},
   "outputs": [],
   "source": [
    "# 위에서 작성한 예제를 함수로 만듭니다.\n",
    "\n",
    "mask_email(email)"
   ]
  },
  {
   "cell_type": "code",
   "execution_count": null,
   "metadata": {},
   "outputs": [],
   "source": [
    "# \"1234address_123@gmail.com\"를 마스킹 처리 합니다.\n"
   ]
  },
  {
   "cell_type": "markdown",
   "metadata": {},
   "source": [
    "### 자동차 등록번호 마스킹\n",
    "* 역시나 해당 데이터에는 자동차 등록번호가 없지만 정규표현식을 더 연습해 보기 위해 마스킹처리를 해봅니다."
   ]
  },
  {
   "cell_type": "code",
   "execution_count": null,
   "metadata": {},
   "outputs": [],
   "source": [
    "# 자동차 등록번호를 마스킹 합니다. \n",
    "# r'*\\2\\3**\\5' 여기에서 \\1 에 해당되는 한글 앞의 숫자는 \n",
    "# 몇 자리가 들어가든 한글 바로 앞의 마지막 한자리만 봅니다.\n",
    "# 따라서 앞에 있는 숫자는 마지막 번호만 마스킹 하게 됩니다.\n",
    "car_num = \"32가1234\"\n",
    "\n"
   ]
  },
  {
   "cell_type": "code",
   "execution_count": null,
   "metadata": {},
   "outputs": [],
   "source": [
    "# 자동차 등록번호를 마스킹 합니다. \n",
    "car_num = \"안녕하세요. 자동차 등록 번호는 132가1234 입니다.\"\n"
   ]
  },
  {
   "cell_type": "markdown",
   "metadata": {},
   "source": [
    "# 데이터 요약하기\n",
    "## 수치형, 범주형 변수 구분하기"
   ]
  },
  {
   "cell_type": "code",
   "execution_count": null,
   "metadata": {},
   "outputs": [],
   "source": [
    "# data_types 변수에 데이터 타입만 따로 모으기\n",
    "\n"
   ]
  },
  {
   "cell_type": "markdown",
   "metadata": {},
   "source": [
    "## 수치형 변수 요약"
   ]
  },
  {
   "cell_type": "code",
   "execution_count": null,
   "metadata": {},
   "outputs": [],
   "source": [
    "# 수치형 변수 구하기\n",
    "# var_numbers 변수에 담습니다.\n",
    "\n"
   ]
  },
  {
   "cell_type": "code",
   "execution_count": null,
   "metadata": {},
   "outputs": [],
   "source": [
    "# 히스토그램을 그리면 수치형 변수에 대한 빈도수 분포를 확인할 수 있습니다.\n",
    "# 빈도수 분포 => 도수 분포표를 시각화 합니다.\n",
    "\n"
   ]
  },
  {
   "cell_type": "code",
   "execution_count": null,
   "metadata": {
    "scrolled": true
   },
   "outputs": [],
   "source": [
    "# describe 를 통해 요약합니다.\n",
    "\n"
   ]
  },
  {
   "cell_type": "markdown",
   "metadata": {},
   "source": [
    "## 범주형 변수 요약"
   ]
  },
  {
   "cell_type": "code",
   "execution_count": null,
   "metadata": {},
   "outputs": [],
   "source": [
    "# 범주형 변수 구하기\n",
    "# var_objects 라는 변수에 저장합니다.\n",
    "\n"
   ]
  },
  {
   "cell_type": "code",
   "execution_count": null,
   "metadata": {},
   "outputs": [],
   "source": [
    "# 문자열 타입의 데이터 describe 로 요약하기\n"
   ]
  },
  {
   "cell_type": "markdown",
   "metadata": {},
   "source": [
    "## crosstab\n",
    "* 범주형 변수끼리의 빈도수 구하기"
   ]
  },
  {
   "cell_type": "code",
   "execution_count": null,
   "metadata": {},
   "outputs": [],
   "source": [
    "# 관리기관과 공원구분에 따른 빈도수를 구합니다.\n",
    "# 결과가 많기 때문에 \"체육공원\"을 5개 이상 관리하는 기관명만 따로 뽑습니다.\n",
    "# 숫자의 많고 적음 표시를 위해 style.background_gradient() 를 사용합니다.\n",
    "# 결과를 manage_category 변수에 담습니다.\n"
   ]
  },
  {
   "cell_type": "code",
   "execution_count": null,
   "metadata": {},
   "outputs": [],
   "source": [
    "# \"시도\" 별 \"공원구분\" 의 수를 구합니다.\n"
   ]
  },
  {
   "cell_type": "markdown",
   "metadata": {},
   "source": [
    "# 시도별 공원 분포"
   ]
  },
  {
   "cell_type": "markdown",
   "metadata": {},
   "source": [
    "## 시도별 공원 비율"
   ]
  },
  {
   "cell_type": "code",
   "execution_count": null,
   "metadata": {},
   "outputs": [],
   "source": [
    "# 시도별로 합계 데이터를 출력\n",
    "\n"
   ]
  },
  {
   "cell_type": "code",
   "execution_count": null,
   "metadata": {},
   "outputs": [],
   "source": [
    "# 합계와 비율을 함께 구합니다.\n",
    "# city 라는 변수에 담습니다.\n",
    "\n"
   ]
  },
  {
   "cell_type": "markdown",
   "metadata": {},
   "source": [
    "## 공원구분별 분포"
   ]
  },
  {
   "cell_type": "code",
   "execution_count": null,
   "metadata": {},
   "outputs": [],
   "source": [
    "# \"공원구분\"별로 색상을 다르게 표현하고 \"공원면적\"에 따라 원의 크기를 다르게 그립니다.\n",
    "# 제주도는 해안선과 유사한 모습으로 공원이 배치되어 있는 모습이 인상적입니다.\n",
    "# df에는 전체 데이터 프레임이 df_park 에는 위경도의 이상치를 제거한 데이터가 들어있습니다.\n",
    "\n"
   ]
  },
  {
   "cell_type": "markdown",
   "metadata": {},
   "source": [
    "## 시도별 공원분포"
   ]
  },
  {
   "cell_type": "code",
   "execution_count": null,
   "metadata": {},
   "outputs": [],
   "source": [
    "# 시도별로 scatterplot 의 색상을 다르게 표현하고 공원면적에 따라 원의 크기를 다르게 그립니다.\n",
    "\n"
   ]
  },
  {
   "cell_type": "markdown",
   "metadata": {},
   "source": [
    "https://matplotlib.org/3.1.0/tutorials/colors/colormaps.html"
   ]
  },
  {
   "cell_type": "code",
   "execution_count": null,
   "metadata": {},
   "outputs": [],
   "source": [
    "# countplot 으로 시도별 빈도수를 그립니다.\n",
    "\n"
   ]
  },
  {
   "cell_type": "markdown",
   "metadata": {},
   "source": [
    "## 특정 공원구분 가져오기"
   ]
  },
  {
   "cell_type": "code",
   "execution_count": null,
   "metadata": {
    "scrolled": true
   },
   "outputs": [],
   "source": [
    "# \"공원구분\"별로 빈도수를 구합니다.\n",
    "\n"
   ]
  },
  {
   "cell_type": "code",
   "execution_count": null,
   "metadata": {},
   "outputs": [],
   "source": [
    "# str.match를 통해 특정 텍스트가 들어가는 공원만 가져오기\n",
    "# \".*\"는 앞뒤로 어떤 문자가 등장하든 상관없다는 의미입니다.\n",
    "# 따라서 아래의 정규표현식 대신 r'(역사|체육|수변|문화)공원'를 사용해도 똑같이 동작합니다.\n",
    "park_type = r'.*((역사|체육|수변|문화)공원).*'\n",
    "\n"
   ]
  },
  {
   "cell_type": "code",
   "execution_count": null,
   "metadata": {},
   "outputs": [],
   "source": [
    "# 위에서 정의한 var_numbers 라는 변수를 가져와 출력해 봅니다.\n",
    "\n"
   ]
  },
  {
   "cell_type": "code",
   "execution_count": null,
   "metadata": {},
   "outputs": [],
   "source": [
    "# 리스트 다루기 - var_pair 라는 변수에 리스트를 만들어서 값을 추가하고 삭제해 봅니다.\n",
    "# 기존 리스트에 \"공원구분\" 원소 추가하기 \"공원구분\"에 따라 색상을 다르게 표현해 보기 위함\n",
    "# var_pair 라는 변수에 담습니다. \n",
    "\n"
   ]
  },
  {
   "cell_type": "code",
   "execution_count": null,
   "metadata": {},
   "outputs": [],
   "source": [
    "# 기존 리스트의 원소를 제거하기 - '지정고시일', '고시연도', '고시월'\n",
    "# 제거 한 후 다시 제거하려고 하면 다음과 같은 오류가 발생할 수 있습니다.\n",
    "# ValueError: list.remove(x): x not in list\n",
    "\n"
   ]
  },
  {
   "cell_type": "code",
   "execution_count": null,
   "metadata": {},
   "outputs": [],
   "source": [
    "# 위에서 가져온 var_pair 라는 변수에 담긴 리스트에 있는 컬럼을 사용해 pairplot을 그립니다.\n"
   ]
  },
  {
   "cell_type": "markdown",
   "metadata": {},
   "source": [
    "## 피봇테이블로 시도별 공원수와 평균면적 구하기"
   ]
  },
  {
   "cell_type": "code",
   "execution_count": null,
   "metadata": {},
   "outputs": [],
   "source": [
    "# 시도별 공원수와 \"공원면적\" 컬럼의 평균값, 중앙값을 구합니다.\n",
    "# style.background_gradient()를 사용해서 값의 많고 적음에 따라 다른 색상으로 표현되도록 합니다.\n",
    "\n"
   ]
  },
  {
   "cell_type": "markdown",
   "metadata": {},
   "source": [
    "## 내가 사는 지역의 공원을 지도에 표시해 보기"
   ]
  },
  {
   "cell_type": "code",
   "execution_count": null,
   "metadata": {},
   "outputs": [],
   "source": [
    "# 경기도 성남시에 위치한 공원만 출력해 봅니다.\n",
    "# df_sn 이라는 변수에 담아서 재사용 합니다.\n",
    "\n"
   ]
  },
  {
   "cell_type": "code",
   "execution_count": null,
   "metadata": {
    "scrolled": true
   },
   "outputs": [],
   "source": [
    "# \"시도\", \"구군\", \"공원명\" 컬럼만 미리보기 합니다.\n",
    "\n"
   ]
  },
  {
   "cell_type": "markdown",
   "metadata": {},
   "source": [
    "### 특정 공원 정보 찾아보기\n",
    "* 판교의 화랑공원을 찾아봅니다."
   ]
  },
  {
   "cell_type": "code",
   "execution_count": null,
   "metadata": {
    "scrolled": true
   },
   "outputs": [],
   "source": [
    "# str.contains 로 \"공원명\"에 \"화랑\"이 들어가는 데이터를 찾습니다.\n",
    "\n"
   ]
  },
  {
   "cell_type": "code",
   "execution_count": null,
   "metadata": {},
   "outputs": [],
   "source": [
    "# cols 컬럼에 특정 컬럼만 불러와서 봅니다.\n",
    "# '공원보유시설(운동시설)', '공원보유시설(유희시설)', '공원보유시설(편익시설)', '공원보유시설(교양시설)' \n",
    "\n"
   ]
  },
  {
   "cell_type": "markdown",
   "metadata": {},
   "source": [
    "###  지도에 표현하기\n",
    "* 다음의 문서를 활용해서 지도를 표현합니다.\n",
    "* https://nbviewer.jupyter.org/github/python-visualization/folium/blob/master/examples/Quickstart.ipynb\n",
    "* Folium 사용예제 :\n",
    "http://nbviewer.jupyter.org/github/python-visualization/folium/tree/master/examples/"
   ]
  },
  {
   "cell_type": "code",
   "execution_count": null,
   "metadata": {
    "scrolled": false
   },
   "outputs": [],
   "source": [
    "# folium 으로 지도에 표현해 봅니다.\n",
    "# 지도에서 한글이 깨지면 html 문서로 저장해서 보세요\n",
    "\n"
   ]
  },
  {
   "cell_type": "code",
   "execution_count": null,
   "metadata": {},
   "outputs": [],
   "source": []
  },
  {
   "cell_type": "code",
   "execution_count": null,
   "metadata": {},
   "outputs": [],
   "source": []
  },
  {
   "cell_type": "code",
   "execution_count": null,
   "metadata": {},
   "outputs": [],
   "source": []
  },
  {
   "cell_type": "code",
   "execution_count": null,
   "metadata": {},
   "outputs": [],
   "source": []
  },
  {
   "cell_type": "code",
   "execution_count": null,
   "metadata": {},
   "outputs": [],
   "source": []
  }
 ],
 "metadata": {
  "hide_input": false,
  "kernelspec": {
   "display_name": "Python 3",
   "language": "python",
   "name": "python3"
  },
  "language_info": {
   "codemirror_mode": {
    "name": "ipython",
    "version": 3
   },
   "file_extension": ".py",
   "mimetype": "text/x-python",
   "name": "python",
   "nbconvert_exporter": "python",
   "pygments_lexer": "ipython3",
   "version": "3.7.6"
  },
  "toc": {
   "base_numbering": 1,
   "nav_menu": {},
   "number_sections": true,
   "sideBar": true,
   "skip_h1_title": false,
   "title_cell": "Table of Contents",
   "title_sidebar": "Contents",
   "toc_cell": false,
   "toc_position": {
    "height": "calc(100% - 180px)",
    "left": "10px",
    "top": "150px",
    "width": "256px"
   },
   "toc_section_display": true,
   "toc_window_display": true
  },
  "varInspector": {
   "cols": {
    "lenName": 16,
    "lenType": 16,
    "lenVar": 40
   },
   "kernels_config": {
    "python": {
     "delete_cmd_postfix": "",
     "delete_cmd_prefix": "del ",
     "library": "var_list.py",
     "varRefreshCmd": "print(var_dic_list())"
    },
    "r": {
     "delete_cmd_postfix": ") ",
     "delete_cmd_prefix": "rm(",
     "library": "var_list.r",
     "varRefreshCmd": "cat(var_dic_list()) "
    }
   },
   "types_to_exclude": [
    "module",
    "function",
    "builtin_function_or_method",
    "instance",
    "_Feature"
   ],
   "window_display": false
  }
 },
 "nbformat": 4,
 "nbformat_minor": 2
}
